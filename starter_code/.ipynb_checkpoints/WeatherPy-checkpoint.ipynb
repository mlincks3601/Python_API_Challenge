{
 "cells": [
  {
   "cell_type": "markdown",
   "metadata": {},
   "source": [
    "# WeatherPy\n",
    "----\n",
    "\n",
    "#### Note\n",
    "* Instructions have been included for each segment. You do not have to follow them exactly, but they are included to help you think through the steps."
   ]
  },
  {
   "cell_type": "code",
   "execution_count": 1,
   "metadata": {},
   "outputs": [
    {
     "name": "stderr",
     "output_type": "stream",
     "text": [
      "WARNING: You are using pip version 21.1.2; however, version 21.2.4 is available.\n",
      "You should consider upgrading via the 'c:\\users\\mlinc\\anaconda3\\download\\envs\\pythondata\\python.exe -m pip install --upgrade pip' command.\n"
     ]
    }
   ],
   "source": [
    "#install citipy directly into the jupyter notebook\n",
    "!pip install citipy -q"
   ]
  },
  {
   "cell_type": "code",
   "execution_count": 2,
   "metadata": {},
   "outputs": [],
   "source": [
    "from tqdm import tqdm"
   ]
  },
  {
   "cell_type": "code",
   "execution_count": 3,
   "metadata": {},
   "outputs": [],
   "source": [
    "# Dependencies and Setup\n",
    "import matplotlib.pyplot as plt\n",
    "import pandas as pd\n",
    "import numpy as np\n",
    "import requests\n",
    "import time\n",
    "import os\n",
    "from scipy.stats import linregress\n",
    "\n",
    "# Import API key\n",
    "from api_keys import weather_api_key\n",
    "\n",
    "# Incorporated citipy to determine city based on latitude and longitude\n",
    "from citipy import citipy\n",
    "\n",
    "# Output File (CSV)\n",
    "output_data_file = \"output_data/cities.csv\"\n",
    "\n",
    "# Range of latitudes and longitudes\n",
    "lat_range = (-90, 90)\n",
    "lng_range = (-180, 180)"
   ]
  },
  {
   "cell_type": "markdown",
   "metadata": {},
   "source": [
    "## Generate Cities List"
   ]
  },
  {
   "cell_type": "code",
   "execution_count": 4,
   "metadata": {},
   "outputs": [
    {
     "data": {
      "text/plain": [
       "627"
      ]
     },
     "execution_count": 4,
     "metadata": {},
     "output_type": "execute_result"
    }
   ],
   "source": [
    "# List for holding lat_lngs and cities\n",
    "lat_lngs = []\n",
    "cities = []\n",
    "\n",
    "# Create a set of random lat and lng combinations\n",
    "lats = np.random.uniform(lat_range[0], lat_range[1], size=1500)\n",
    "lngs = np.random.uniform(lng_range[0], lng_range[1], size=1500)\n",
    "lat_lngs = zip(lats, lngs)\n",
    "\n",
    "# Identify nearest city for each lat, lng combination\n",
    "for lat_lng in lat_lngs:\n",
    "    city = citipy.nearest_city(lat_lng[0], lat_lng[1]).city_name\n",
    "    \n",
    "    # If the city is unique, then add it to a our cities list\n",
    "    if city not in cities:\n",
    "        cities.append(city)\n",
    "\n",
    "# Print the city count to confirm sufficient count\n",
    "len(cities)"
   ]
  },
  {
   "cell_type": "markdown",
   "metadata": {},
   "source": [
    "### Perform API Calls\n",
    "* Perform a weather check on each city using a series of successive API calls.\n",
    "* Include a print log of each city as it'sbeing processed (with the city number and city name).\n"
   ]
  },
  {
   "cell_type": "code",
   "execution_count": 5,
   "metadata": {
    "scrolled": true
   },
   "outputs": [
    {
     "data": {
      "text/plain": [
       "'http://api.openweathermap.org/data/2.5/weather?appid=04c2b7f297fb07965147b6f738ce47c3&units=metric&q='"
      ]
     },
     "execution_count": 5,
     "metadata": {},
     "output_type": "execute_result"
    }
   ],
   "source": [
    "# Save config information for API calls\n",
    "# Save config information.\n",
    "weather_url = \"http://api.openweathermap.org/data/2.5/weather?\"\n",
    "units = \"metric\"\n",
    "\n",
    "# Build partial query URL\n",
    "query_url = f\"{weather_url}appid={weather_api_key}&units={units}&q=\"\n",
    "query_url"
   ]
  },
  {
   "cell_type": "code",
   "execution_count": 6,
   "metadata": {},
   "outputs": [],
   "source": [
    "# Create a list to store weather info to be requested with the API\n",
    "latitude = []\n",
    "longitude =[]\n",
    "max_temp = []\n",
    "humidity= []\n",
    "Cloudiness= []\n",
    "wind_speed = []\n",
    "country = []\n",
    "date = []\n",
    "\n",
    "\n",
    "#good cities list no errors\n",
    "good_cities = []\n",
    "error_cities = []\n",
    "# Create a for loop to add weather data \n",
    "for city in cities:       \n",
    "# make you request\n",
    "    try:\n",
    "        \n",
    "        response = requests.get(query_url + city).json()\n",
    "    #     print(response)\n",
    "            # Goal data frame includes City, Lat, Lng, Max Temp, Humidity, Cloudiness, Wind Speed, Country, Date\n",
    "        latitude.append(response['coord']['lat']),\n",
    "        longitude.append(response['coord']['lon']),\n",
    "        max_temp.append(response['main']['temp_max']),\n",
    "        humidity.append(response['main']['humidity']),\n",
    "        Cloudiness.append(response['clouds']['all']),\n",
    "        wind_speed.append(response['wind']['speed']),\n",
    "        country.append(response['sys']['country']),\n",
    "        date.append(response['dt'])\n",
    "        good_cities.append(city)\n",
    "    #disregard the city without a coordinate\n",
    "    except:\n",
    "        error_cities.append(city)\n"
   ]
  },
  {
   "cell_type": "code",
   "execution_count": 7,
   "metadata": {},
   "outputs": [
    {
     "name": "stdout",
     "output_type": "stream",
     "text": [
      "576\n"
     ]
    }
   ],
   "source": [
    "#test to see if we get all latitudes\n",
    "print(len(latitude))"
   ]
  },
  {
   "cell_type": "markdown",
   "metadata": {},
   "source": [
    "### Convert Raw Data to DataFrame\n",
    "* Export the city data into a .csv.\n",
    "* Display the DataFrame"
   ]
  },
  {
   "cell_type": "code",
   "execution_count": 8,
   "metadata": {},
   "outputs": [],
   "source": [
    "weather_dict = {\n",
    "    'city': good_cities,\n",
    "    'lat': latitude,\n",
    "    'temp_max': max_temp,\n",
    "    'lon': longitude,\n",
    "    'humidity': humidity,\n",
    "    'clouds': Cloudiness,\n",
    "    'wind': wind_speed,\n",
    "    'country': country,\n",
    "    'dt': date\n",
    "}"
   ]
  },
  {
   "cell_type": "code",
   "execution_count": 9,
   "metadata": {},
   "outputs": [
    {
     "data": {
      "text/html": [
       "<div>\n",
       "<style scoped>\n",
       "    .dataframe tbody tr th:only-of-type {\n",
       "        vertical-align: middle;\n",
       "    }\n",
       "\n",
       "    .dataframe tbody tr th {\n",
       "        vertical-align: top;\n",
       "    }\n",
       "\n",
       "    .dataframe thead th {\n",
       "        text-align: right;\n",
       "    }\n",
       "</style>\n",
       "<table border=\"1\" class=\"dataframe\">\n",
       "  <thead>\n",
       "    <tr style=\"text-align: right;\">\n",
       "      <th></th>\n",
       "      <th>city</th>\n",
       "      <th>lat</th>\n",
       "      <th>temp_max</th>\n",
       "      <th>lon</th>\n",
       "      <th>humidity</th>\n",
       "      <th>clouds</th>\n",
       "      <th>wind</th>\n",
       "      <th>country</th>\n",
       "      <th>dt</th>\n",
       "    </tr>\n",
       "  </thead>\n",
       "  <tbody>\n",
       "    <tr>\n",
       "      <th>0</th>\n",
       "      <td>provideniya</td>\n",
       "      <td>64.3833</td>\n",
       "      <td>5.36</td>\n",
       "      <td>-173.3000</td>\n",
       "      <td>94</td>\n",
       "      <td>100</td>\n",
       "      <td>4.55</td>\n",
       "      <td>RU</td>\n",
       "      <td>1629380244</td>\n",
       "    </tr>\n",
       "    <tr>\n",
       "      <th>1</th>\n",
       "      <td>abu zabad</td>\n",
       "      <td>12.3500</td>\n",
       "      <td>32.48</td>\n",
       "      <td>29.2500</td>\n",
       "      <td>46</td>\n",
       "      <td>76</td>\n",
       "      <td>5.78</td>\n",
       "      <td>SD</td>\n",
       "      <td>1629380490</td>\n",
       "    </tr>\n",
       "    <tr>\n",
       "      <th>2</th>\n",
       "      <td>faya</td>\n",
       "      <td>18.3851</td>\n",
       "      <td>24.29</td>\n",
       "      <td>42.4509</td>\n",
       "      <td>41</td>\n",
       "      <td>79</td>\n",
       "      <td>4.68</td>\n",
       "      <td>SA</td>\n",
       "      <td>1629380610</td>\n",
       "    </tr>\n",
       "    <tr>\n",
       "      <th>3</th>\n",
       "      <td>jamestown</td>\n",
       "      <td>42.0970</td>\n",
       "      <td>22.94</td>\n",
       "      <td>-79.2353</td>\n",
       "      <td>88</td>\n",
       "      <td>90</td>\n",
       "      <td>3.11</td>\n",
       "      <td>US</td>\n",
       "      <td>1629380270</td>\n",
       "    </tr>\n",
       "    <tr>\n",
       "      <th>4</th>\n",
       "      <td>san jeronimo</td>\n",
       "      <td>-11.9472</td>\n",
       "      <td>10.94</td>\n",
       "      <td>-75.2829</td>\n",
       "      <td>58</td>\n",
       "      <td>10</td>\n",
       "      <td>0.62</td>\n",
       "      <td>PE</td>\n",
       "      <td>1629380611</td>\n",
       "    </tr>\n",
       "    <tr>\n",
       "      <th>...</th>\n",
       "      <td>...</td>\n",
       "      <td>...</td>\n",
       "      <td>...</td>\n",
       "      <td>...</td>\n",
       "      <td>...</td>\n",
       "      <td>...</td>\n",
       "      <td>...</td>\n",
       "      <td>...</td>\n",
       "      <td>...</td>\n",
       "    </tr>\n",
       "    <tr>\n",
       "      <th>571</th>\n",
       "      <td>caraballeda</td>\n",
       "      <td>10.6112</td>\n",
       "      <td>30.76</td>\n",
       "      <td>-66.8522</td>\n",
       "      <td>62</td>\n",
       "      <td>37</td>\n",
       "      <td>3.09</td>\n",
       "      <td>VE</td>\n",
       "      <td>1629380775</td>\n",
       "    </tr>\n",
       "    <tr>\n",
       "      <th>572</th>\n",
       "      <td>yulara</td>\n",
       "      <td>-25.2406</td>\n",
       "      <td>12.91</td>\n",
       "      <td>130.9889</td>\n",
       "      <td>26</td>\n",
       "      <td>0</td>\n",
       "      <td>0.00</td>\n",
       "      <td>AU</td>\n",
       "      <td>1629380310</td>\n",
       "    </tr>\n",
       "    <tr>\n",
       "      <th>573</th>\n",
       "      <td>abatskoye</td>\n",
       "      <td>56.2875</td>\n",
       "      <td>20.90</td>\n",
       "      <td>70.4555</td>\n",
       "      <td>55</td>\n",
       "      <td>95</td>\n",
       "      <td>2.14</td>\n",
       "      <td>RU</td>\n",
       "      <td>1629380775</td>\n",
       "    </tr>\n",
       "    <tr>\n",
       "      <th>574</th>\n",
       "      <td>santa maria da vitoria</td>\n",
       "      <td>-13.3947</td>\n",
       "      <td>27.78</td>\n",
       "      <td>-44.1886</td>\n",
       "      <td>38</td>\n",
       "      <td>72</td>\n",
       "      <td>4.53</td>\n",
       "      <td>BR</td>\n",
       "      <td>1629380776</td>\n",
       "    </tr>\n",
       "    <tr>\n",
       "      <th>575</th>\n",
       "      <td>marsh harbour</td>\n",
       "      <td>26.5412</td>\n",
       "      <td>28.15</td>\n",
       "      <td>-77.0636</td>\n",
       "      <td>68</td>\n",
       "      <td>68</td>\n",
       "      <td>3.25</td>\n",
       "      <td>BS</td>\n",
       "      <td>1629380130</td>\n",
       "    </tr>\n",
       "  </tbody>\n",
       "</table>\n",
       "<p>576 rows × 9 columns</p>\n",
       "</div>"
      ],
      "text/plain": [
       "                       city      lat  temp_max       lon  humidity  clouds  \\\n",
       "0               provideniya  64.3833      5.36 -173.3000        94     100   \n",
       "1                 abu zabad  12.3500     32.48   29.2500        46      76   \n",
       "2                      faya  18.3851     24.29   42.4509        41      79   \n",
       "3                 jamestown  42.0970     22.94  -79.2353        88      90   \n",
       "4              san jeronimo -11.9472     10.94  -75.2829        58      10   \n",
       "..                      ...      ...       ...       ...       ...     ...   \n",
       "571             caraballeda  10.6112     30.76  -66.8522        62      37   \n",
       "572                  yulara -25.2406     12.91  130.9889        26       0   \n",
       "573               abatskoye  56.2875     20.90   70.4555        55      95   \n",
       "574  santa maria da vitoria -13.3947     27.78  -44.1886        38      72   \n",
       "575           marsh harbour  26.5412     28.15  -77.0636        68      68   \n",
       "\n",
       "     wind country          dt  \n",
       "0    4.55      RU  1629380244  \n",
       "1    5.78      SD  1629380490  \n",
       "2    4.68      SA  1629380610  \n",
       "3    3.11      US  1629380270  \n",
       "4    0.62      PE  1629380611  \n",
       "..    ...     ...         ...  \n",
       "571  3.09      VE  1629380775  \n",
       "572  0.00      AU  1629380310  \n",
       "573  2.14      RU  1629380775  \n",
       "574  4.53      BR  1629380776  \n",
       "575  3.25      BS  1629380130  \n",
       "\n",
       "[576 rows x 9 columns]"
      ]
     },
     "execution_count": 9,
     "metadata": {},
     "output_type": "execute_result"
    }
   ],
   "source": [
    "weather_df = pd.DataFrame(weather_dict)\n",
    "weather_df"
   ]
  },
  {
   "cell_type": "code",
   "execution_count": 10,
   "metadata": {},
   "outputs": [],
   "source": [
    "output_file = os.path.join(\"..\", \"output_data\", \"cities.csv\")\n",
    "weather_df.to_csv(output_file, header = True)"
   ]
  },
  {
   "cell_type": "markdown",
   "metadata": {},
   "source": [
    "## Inspect the data and remove the cities where the humidity > 100%.\n",
    "----\n",
    "Skip this step if there are no cities that have humidity > 100%. "
   ]
  },
  {
   "cell_type": "code",
   "execution_count": 11,
   "metadata": {},
   "outputs": [
    {
     "data": {
      "text/html": [
       "<div>\n",
       "<style scoped>\n",
       "    .dataframe tbody tr th:only-of-type {\n",
       "        vertical-align: middle;\n",
       "    }\n",
       "\n",
       "    .dataframe tbody tr th {\n",
       "        vertical-align: top;\n",
       "    }\n",
       "\n",
       "    .dataframe thead th {\n",
       "        text-align: right;\n",
       "    }\n",
       "</style>\n",
       "<table border=\"1\" class=\"dataframe\">\n",
       "  <thead>\n",
       "    <tr style=\"text-align: right;\">\n",
       "      <th></th>\n",
       "      <th>city</th>\n",
       "      <th>lat</th>\n",
       "      <th>temp_max</th>\n",
       "      <th>lon</th>\n",
       "      <th>humidity</th>\n",
       "      <th>clouds</th>\n",
       "      <th>wind</th>\n",
       "      <th>country</th>\n",
       "      <th>dt</th>\n",
       "    </tr>\n",
       "  </thead>\n",
       "  <tbody>\n",
       "    <tr>\n",
       "      <th>16</th>\n",
       "      <td>mar del plata</td>\n",
       "      <td>-38.0023</td>\n",
       "      <td>11.01</td>\n",
       "      <td>-57.5575</td>\n",
       "      <td>100</td>\n",
       "      <td>90</td>\n",
       "      <td>5.66</td>\n",
       "      <td>AR</td>\n",
       "      <td>1629380101</td>\n",
       "    </tr>\n",
       "    <tr>\n",
       "      <th>17</th>\n",
       "      <td>aurangabad</td>\n",
       "      <td>19.8833</td>\n",
       "      <td>22.05</td>\n",
       "      <td>75.3333</td>\n",
       "      <td>100</td>\n",
       "      <td>90</td>\n",
       "      <td>1.54</td>\n",
       "      <td>IN</td>\n",
       "      <td>1629380613</td>\n",
       "    </tr>\n",
       "    <tr>\n",
       "      <th>42</th>\n",
       "      <td>yellowknife</td>\n",
       "      <td>62.4560</td>\n",
       "      <td>13.29</td>\n",
       "      <td>-114.3525</td>\n",
       "      <td>100</td>\n",
       "      <td>90</td>\n",
       "      <td>1.54</td>\n",
       "      <td>CA</td>\n",
       "      <td>1629380332</td>\n",
       "    </tr>\n",
       "    <tr>\n",
       "      <th>73</th>\n",
       "      <td>norman wells</td>\n",
       "      <td>65.2820</td>\n",
       "      <td>9.02</td>\n",
       "      <td>-126.8329</td>\n",
       "      <td>100</td>\n",
       "      <td>90</td>\n",
       "      <td>3.60</td>\n",
       "      <td>CA</td>\n",
       "      <td>1629380504</td>\n",
       "    </tr>\n",
       "    <tr>\n",
       "      <th>97</th>\n",
       "      <td>wiarton</td>\n",
       "      <td>44.7407</td>\n",
       "      <td>26.89</td>\n",
       "      <td>-81.1332</td>\n",
       "      <td>100</td>\n",
       "      <td>40</td>\n",
       "      <td>1.03</td>\n",
       "      <td>CA</td>\n",
       "      <td>1629380629</td>\n",
       "    </tr>\n",
       "    <tr>\n",
       "      <th>231</th>\n",
       "      <td>myitkyina</td>\n",
       "      <td>25.3833</td>\n",
       "      <td>22.59</td>\n",
       "      <td>97.4000</td>\n",
       "      <td>100</td>\n",
       "      <td>100</td>\n",
       "      <td>0.28</td>\n",
       "      <td>MM</td>\n",
       "      <td>1629380523</td>\n",
       "    </tr>\n",
       "    <tr>\n",
       "      <th>287</th>\n",
       "      <td>andrews</td>\n",
       "      <td>32.3187</td>\n",
       "      <td>23.69</td>\n",
       "      <td>-102.5457</td>\n",
       "      <td>100</td>\n",
       "      <td>1</td>\n",
       "      <td>3.09</td>\n",
       "      <td>US</td>\n",
       "      <td>1629380445</td>\n",
       "    </tr>\n",
       "    <tr>\n",
       "      <th>294</th>\n",
       "      <td>inirida</td>\n",
       "      <td>3.8653</td>\n",
       "      <td>22.14</td>\n",
       "      <td>-67.9239</td>\n",
       "      <td>100</td>\n",
       "      <td>100</td>\n",
       "      <td>1.03</td>\n",
       "      <td>CO</td>\n",
       "      <td>1629380684</td>\n",
       "    </tr>\n",
       "    <tr>\n",
       "      <th>296</th>\n",
       "      <td>santiago</td>\n",
       "      <td>-33.4569</td>\n",
       "      <td>9.69</td>\n",
       "      <td>-70.6483</td>\n",
       "      <td>100</td>\n",
       "      <td>75</td>\n",
       "      <td>1.03</td>\n",
       "      <td>CL</td>\n",
       "      <td>1629380339</td>\n",
       "    </tr>\n",
       "    <tr>\n",
       "      <th>320</th>\n",
       "      <td>kenai</td>\n",
       "      <td>60.5544</td>\n",
       "      <td>8.41</td>\n",
       "      <td>-151.2583</td>\n",
       "      <td>100</td>\n",
       "      <td>20</td>\n",
       "      <td>0.00</td>\n",
       "      <td>US</td>\n",
       "      <td>1629380391</td>\n",
       "    </tr>\n",
       "    <tr>\n",
       "      <th>326</th>\n",
       "      <td>valparaiso</td>\n",
       "      <td>-33.0393</td>\n",
       "      <td>13.51</td>\n",
       "      <td>-71.6273</td>\n",
       "      <td>100</td>\n",
       "      <td>90</td>\n",
       "      <td>3.09</td>\n",
       "      <td>CL</td>\n",
       "      <td>1629380319</td>\n",
       "    </tr>\n",
       "    <tr>\n",
       "      <th>365</th>\n",
       "      <td>port hardy</td>\n",
       "      <td>50.6996</td>\n",
       "      <td>14.10</td>\n",
       "      <td>-127.4199</td>\n",
       "      <td>100</td>\n",
       "      <td>90</td>\n",
       "      <td>2.06</td>\n",
       "      <td>CA</td>\n",
       "      <td>1629380467</td>\n",
       "    </tr>\n",
       "    <tr>\n",
       "      <th>418</th>\n",
       "      <td>aklavik</td>\n",
       "      <td>68.2191</td>\n",
       "      <td>6.00</td>\n",
       "      <td>-135.0107</td>\n",
       "      <td>100</td>\n",
       "      <td>90</td>\n",
       "      <td>1.03</td>\n",
       "      <td>CA</td>\n",
       "      <td>1629380521</td>\n",
       "    </tr>\n",
       "    <tr>\n",
       "      <th>421</th>\n",
       "      <td>skowhegan</td>\n",
       "      <td>44.7651</td>\n",
       "      <td>25.21</td>\n",
       "      <td>-69.7192</td>\n",
       "      <td>100</td>\n",
       "      <td>100</td>\n",
       "      <td>0.56</td>\n",
       "      <td>US</td>\n",
       "      <td>1629380728</td>\n",
       "    </tr>\n",
       "    <tr>\n",
       "      <th>477</th>\n",
       "      <td>tezu</td>\n",
       "      <td>27.9167</td>\n",
       "      <td>24.20</td>\n",
       "      <td>96.1667</td>\n",
       "      <td>100</td>\n",
       "      <td>100</td>\n",
       "      <td>0.63</td>\n",
       "      <td>IN</td>\n",
       "      <td>1629380745</td>\n",
       "    </tr>\n",
       "    <tr>\n",
       "      <th>498</th>\n",
       "      <td>alofi</td>\n",
       "      <td>-19.0595</td>\n",
       "      <td>18.94</td>\n",
       "      <td>-169.9187</td>\n",
       "      <td>100</td>\n",
       "      <td>18</td>\n",
       "      <td>0.51</td>\n",
       "      <td>NU</td>\n",
       "      <td>1629380316</td>\n",
       "    </tr>\n",
       "    <tr>\n",
       "      <th>502</th>\n",
       "      <td>nagahama</td>\n",
       "      <td>35.3833</td>\n",
       "      <td>23.71</td>\n",
       "      <td>136.2667</td>\n",
       "      <td>100</td>\n",
       "      <td>100</td>\n",
       "      <td>2.22</td>\n",
       "      <td>JP</td>\n",
       "      <td>1629380753</td>\n",
       "    </tr>\n",
       "  </tbody>\n",
       "</table>\n",
       "</div>"
      ],
      "text/plain": [
       "              city      lat  temp_max       lon  humidity  clouds  wind  \\\n",
       "16   mar del plata -38.0023     11.01  -57.5575       100      90  5.66   \n",
       "17      aurangabad  19.8833     22.05   75.3333       100      90  1.54   \n",
       "42     yellowknife  62.4560     13.29 -114.3525       100      90  1.54   \n",
       "73    norman wells  65.2820      9.02 -126.8329       100      90  3.60   \n",
       "97         wiarton  44.7407     26.89  -81.1332       100      40  1.03   \n",
       "231      myitkyina  25.3833     22.59   97.4000       100     100  0.28   \n",
       "287        andrews  32.3187     23.69 -102.5457       100       1  3.09   \n",
       "294        inirida   3.8653     22.14  -67.9239       100     100  1.03   \n",
       "296       santiago -33.4569      9.69  -70.6483       100      75  1.03   \n",
       "320          kenai  60.5544      8.41 -151.2583       100      20  0.00   \n",
       "326     valparaiso -33.0393     13.51  -71.6273       100      90  3.09   \n",
       "365     port hardy  50.6996     14.10 -127.4199       100      90  2.06   \n",
       "418        aklavik  68.2191      6.00 -135.0107       100      90  1.03   \n",
       "421      skowhegan  44.7651     25.21  -69.7192       100     100  0.56   \n",
       "477           tezu  27.9167     24.20   96.1667       100     100  0.63   \n",
       "498          alofi -19.0595     18.94 -169.9187       100      18  0.51   \n",
       "502       nagahama  35.3833     23.71  136.2667       100     100  2.22   \n",
       "\n",
       "    country          dt  \n",
       "16       AR  1629380101  \n",
       "17       IN  1629380613  \n",
       "42       CA  1629380332  \n",
       "73       CA  1629380504  \n",
       "97       CA  1629380629  \n",
       "231      MM  1629380523  \n",
       "287      US  1629380445  \n",
       "294      CO  1629380684  \n",
       "296      CL  1629380339  \n",
       "320      US  1629380391  \n",
       "326      CL  1629380319  \n",
       "365      CA  1629380467  \n",
       "418      CA  1629380521  \n",
       "421      US  1629380728  \n",
       "477      IN  1629380745  \n",
       "498      NU  1629380316  \n",
       "502      JP  1629380753  "
      ]
     },
     "execution_count": 11,
     "metadata": {},
     "output_type": "execute_result"
    }
   ],
   "source": [
    "humidity = weather_df.loc[weather_df['humidity'] >= 100]\n",
    "humidity"
   ]
  },
  {
   "cell_type": "code",
   "execution_count": 12,
   "metadata": {},
   "outputs": [
    {
     "data": {
      "text/html": [
       "<div>\n",
       "<style scoped>\n",
       "    .dataframe tbody tr th:only-of-type {\n",
       "        vertical-align: middle;\n",
       "    }\n",
       "\n",
       "    .dataframe tbody tr th {\n",
       "        vertical-align: top;\n",
       "    }\n",
       "\n",
       "    .dataframe thead th {\n",
       "        text-align: right;\n",
       "    }\n",
       "</style>\n",
       "<table border=\"1\" class=\"dataframe\">\n",
       "  <thead>\n",
       "    <tr style=\"text-align: right;\">\n",
       "      <th></th>\n",
       "      <th>city</th>\n",
       "      <th>lat</th>\n",
       "      <th>temp_max</th>\n",
       "      <th>lon</th>\n",
       "      <th>humidity</th>\n",
       "      <th>clouds</th>\n",
       "      <th>wind</th>\n",
       "      <th>country</th>\n",
       "      <th>dt</th>\n",
       "    </tr>\n",
       "  </thead>\n",
       "  <tbody>\n",
       "    <tr>\n",
       "      <th>0</th>\n",
       "      <td>provideniya</td>\n",
       "      <td>64.3833</td>\n",
       "      <td>5.36</td>\n",
       "      <td>-173.3000</td>\n",
       "      <td>94</td>\n",
       "      <td>100</td>\n",
       "      <td>4.55</td>\n",
       "      <td>RU</td>\n",
       "      <td>1629380244</td>\n",
       "    </tr>\n",
       "    <tr>\n",
       "      <th>1</th>\n",
       "      <td>abu zabad</td>\n",
       "      <td>12.3500</td>\n",
       "      <td>32.48</td>\n",
       "      <td>29.2500</td>\n",
       "      <td>46</td>\n",
       "      <td>76</td>\n",
       "      <td>5.78</td>\n",
       "      <td>SD</td>\n",
       "      <td>1629380490</td>\n",
       "    </tr>\n",
       "    <tr>\n",
       "      <th>2</th>\n",
       "      <td>faya</td>\n",
       "      <td>18.3851</td>\n",
       "      <td>24.29</td>\n",
       "      <td>42.4509</td>\n",
       "      <td>41</td>\n",
       "      <td>79</td>\n",
       "      <td>4.68</td>\n",
       "      <td>SA</td>\n",
       "      <td>1629380610</td>\n",
       "    </tr>\n",
       "    <tr>\n",
       "      <th>3</th>\n",
       "      <td>jamestown</td>\n",
       "      <td>42.0970</td>\n",
       "      <td>22.94</td>\n",
       "      <td>-79.2353</td>\n",
       "      <td>88</td>\n",
       "      <td>90</td>\n",
       "      <td>3.11</td>\n",
       "      <td>US</td>\n",
       "      <td>1629380270</td>\n",
       "    </tr>\n",
       "    <tr>\n",
       "      <th>4</th>\n",
       "      <td>san jeronimo</td>\n",
       "      <td>-11.9472</td>\n",
       "      <td>10.94</td>\n",
       "      <td>-75.2829</td>\n",
       "      <td>58</td>\n",
       "      <td>10</td>\n",
       "      <td>0.62</td>\n",
       "      <td>PE</td>\n",
       "      <td>1629380611</td>\n",
       "    </tr>\n",
       "    <tr>\n",
       "      <th>...</th>\n",
       "      <td>...</td>\n",
       "      <td>...</td>\n",
       "      <td>...</td>\n",
       "      <td>...</td>\n",
       "      <td>...</td>\n",
       "      <td>...</td>\n",
       "      <td>...</td>\n",
       "      <td>...</td>\n",
       "      <td>...</td>\n",
       "    </tr>\n",
       "    <tr>\n",
       "      <th>571</th>\n",
       "      <td>caraballeda</td>\n",
       "      <td>10.6112</td>\n",
       "      <td>30.76</td>\n",
       "      <td>-66.8522</td>\n",
       "      <td>62</td>\n",
       "      <td>37</td>\n",
       "      <td>3.09</td>\n",
       "      <td>VE</td>\n",
       "      <td>1629380775</td>\n",
       "    </tr>\n",
       "    <tr>\n",
       "      <th>572</th>\n",
       "      <td>yulara</td>\n",
       "      <td>-25.2406</td>\n",
       "      <td>12.91</td>\n",
       "      <td>130.9889</td>\n",
       "      <td>26</td>\n",
       "      <td>0</td>\n",
       "      <td>0.00</td>\n",
       "      <td>AU</td>\n",
       "      <td>1629380310</td>\n",
       "    </tr>\n",
       "    <tr>\n",
       "      <th>573</th>\n",
       "      <td>abatskoye</td>\n",
       "      <td>56.2875</td>\n",
       "      <td>20.90</td>\n",
       "      <td>70.4555</td>\n",
       "      <td>55</td>\n",
       "      <td>95</td>\n",
       "      <td>2.14</td>\n",
       "      <td>RU</td>\n",
       "      <td>1629380775</td>\n",
       "    </tr>\n",
       "    <tr>\n",
       "      <th>574</th>\n",
       "      <td>santa maria da vitoria</td>\n",
       "      <td>-13.3947</td>\n",
       "      <td>27.78</td>\n",
       "      <td>-44.1886</td>\n",
       "      <td>38</td>\n",
       "      <td>72</td>\n",
       "      <td>4.53</td>\n",
       "      <td>BR</td>\n",
       "      <td>1629380776</td>\n",
       "    </tr>\n",
       "    <tr>\n",
       "      <th>575</th>\n",
       "      <td>marsh harbour</td>\n",
       "      <td>26.5412</td>\n",
       "      <td>28.15</td>\n",
       "      <td>-77.0636</td>\n",
       "      <td>68</td>\n",
       "      <td>68</td>\n",
       "      <td>3.25</td>\n",
       "      <td>BS</td>\n",
       "      <td>1629380130</td>\n",
       "    </tr>\n",
       "  </tbody>\n",
       "</table>\n",
       "<p>576 rows × 9 columns</p>\n",
       "</div>"
      ],
      "text/plain": [
       "                       city      lat  temp_max       lon  humidity  clouds  \\\n",
       "0               provideniya  64.3833      5.36 -173.3000        94     100   \n",
       "1                 abu zabad  12.3500     32.48   29.2500        46      76   \n",
       "2                      faya  18.3851     24.29   42.4509        41      79   \n",
       "3                 jamestown  42.0970     22.94  -79.2353        88      90   \n",
       "4              san jeronimo -11.9472     10.94  -75.2829        58      10   \n",
       "..                      ...      ...       ...       ...       ...     ...   \n",
       "571             caraballeda  10.6112     30.76  -66.8522        62      37   \n",
       "572                  yulara -25.2406     12.91  130.9889        26       0   \n",
       "573               abatskoye  56.2875     20.90   70.4555        55      95   \n",
       "574  santa maria da vitoria -13.3947     27.78  -44.1886        38      72   \n",
       "575           marsh harbour  26.5412     28.15  -77.0636        68      68   \n",
       "\n",
       "     wind country          dt  \n",
       "0    4.55      RU  1629380244  \n",
       "1    5.78      SD  1629380490  \n",
       "2    4.68      SA  1629380610  \n",
       "3    3.11      US  1629380270  \n",
       "4    0.62      PE  1629380611  \n",
       "..    ...     ...         ...  \n",
       "571  3.09      VE  1629380775  \n",
       "572  0.00      AU  1629380310  \n",
       "573  2.14      RU  1629380775  \n",
       "574  4.53      BR  1629380776  \n",
       "575  3.25      BS  1629380130  \n",
       "\n",
       "[576 rows x 9 columns]"
      ]
     },
     "execution_count": 12,
     "metadata": {},
     "output_type": "execute_result"
    }
   ],
   "source": [
    "#  Get the indices of cities that have humidity over 100%.\n",
    "high_humidity = weather_df.loc[weather_df['humidity'] <= 100]\n",
    "high_humidity"
   ]
  },
  {
   "cell_type": "markdown",
   "metadata": {},
   "source": [
    "## Plotting the Data\n",
    "* Use proper labeling of the plots using plot titles (including date of analysis) and axes labels.\n",
    "* Save the plotted figures as .pngs."
   ]
  },
  {
   "cell_type": "markdown",
   "metadata": {},
   "source": [
    "## Latitude vs. Temperature Plot"
   ]
  },
  {
   "cell_type": "code",
   "execution_count": 14,
   "metadata": {
    "scrolled": true
   },
   "outputs": [],
   "source": [
    "#defining a function to plot our data for ALL PLOTS\n",
    "\n",
    "def show_plot(x_col, y_col, x_label, y_label):\n",
    "    \n",
    "    x_values = weather_df.iloc[:,x_col]\n",
    "    y_values = weather_df.iloc[:,y_col]\n",
    "    plt.scatter(x_values, y_values, marker='o', facecolor=face, edgecolors=edge)\n",
    "    \n",
    "    plt.title(plot_title)\n",
    "    plt.xlabel(x_col)\n",
    "    plt.ylabel(y_col)\n",
    "    plt.grid()\n",
    "    plt.show()"
   ]
  },
  {
   "cell_type": "code",
   "execution_count": 79,
   "metadata": {},
   "outputs": [
    {
     "data": {
      "image/png": "[encoded data removed]",
      "text/plain": [
       "<Figure size 576x360 with 1 Axes>"
      ]
     },
     "metadata": {
      "needs_background": "light"
     },
     "output_type": "display_data"
    },
    {
     "data": {
      "text/plain": [
       "<Figure size 432x288 with 0 Axes>"
      ]
     },
     "metadata": {},
     "output_type": "display_data"
    }
   ],
   "source": [
    "# Plot latitude vs max_temp\n",
    "figure1 = plt.figure(figsize=(8,5))\n",
    "plot_title = 'latitude vs. max temperature'\n",
    "x_label = 'Latitude'\n",
    "y_label = 'max temperature'\n",
    "face = 'pink'\n",
    "edge= 'black'\n",
    "\n",
    "fig1 = show_plot(1,2)\n",
    "plt.tight_layout()"
   ]
  },
  {
   "cell_type": "markdown",
   "metadata": {},
   "source": [
    "## The plot's brief explanation of what the code is analyzing\n",
    "The figure above is plotting the latitude. You can see how the curv shows where the temperatures get the warmest nearer to the equator and descend farther away from the equator."
   ]
  },
  {
   "cell_type": "markdown",
   "metadata": {},
   "source": [
    "## Latitude vs. Humidity Plot"
   ]
  },
  {
   "cell_type": "code",
   "execution_count": 78,
   "metadata": {},
   "outputs": [
    {
     "data": {
      "image/png": "[encoded data removed]",
      "text/plain": [
       "<Figure size 576x360 with 1 Axes>"
      ]
     },
     "metadata": {
      "needs_background": "light"
     },
     "output_type": "display_data"
    },
    {
     "data": {
      "text/plain": [
       "<Figure size 432x288 with 0 Axes>"
      ]
     },
     "metadata": {},
     "output_type": "display_data"
    }
   ],
   "source": [
    "figure1 = plt.figure(figsize=(8,5))\n",
    "plot_title = 'latitude vs. humidity'\n",
    "x_label = 'latitude'\n",
    "y_label = 'humidity (%)'\n",
    "face = 'purple'\n",
    "edge= 'blue'\n",
    "#using the columns from our dataframe \n",
    "fig1 = show_plot(1,4)\n",
    "plt.tight_layout()"
   ]
  },
  {
   "cell_type": "code",
   "execution_count": 61,
   "metadata": {},
   "outputs": [
    {
     "data": {
      "text/plain": [
       "<Figure size 432x288 with 0 Axes>"
      ]
     },
     "metadata": {},
     "output_type": "display_data"
    }
   ],
   "source": [
    "# Save the plot image to png\n",
    "lat_vs_humidity_img = os.path.join('..', 'output_data', 'latitudeVshumidity.png')\n",
    "plt.savefig(lat_vs_humidity_img)\n",
    "\n",
    "#check to make sure our image uploaded\n",
    "plt.show()"
   ]
  },
  {
   "cell_type": "markdown",
   "metadata": {},
   "source": [
    "# The plot's brief explanation of what the code is analyzing\n",
    "The figure above is plotting humidity. It seems to show that the higher the temperature the higher the humidity, regardless where on the equator you are. However i think what should be taken into consideration is 'Dry Heat' and where that enviroment is usually found. I believe a seperate plot for that would be useful to compare.\n"
   ]
  },
  {
   "cell_type": "markdown",
   "metadata": {},
   "source": [
    "## Latitude vs. Cloudiness Plot"
   ]
  },
  {
   "cell_type": "code",
   "execution_count": 75,
   "metadata": {},
   "outputs": [
    {
     "data": {
      "image/png": "[encoded data removed]",
      "text/plain": [
       "<Figure size 576x360 with 1 Axes>"
      ]
     },
     "metadata": {
      "needs_background": "light"
     },
     "output_type": "display_data"
    },
    {
     "data": {
      "text/plain": [
       "<Figure size 432x288 with 0 Axes>"
      ]
     },
     "metadata": {},
     "output_type": "display_data"
    }
   ],
   "source": [
    "figure3 = plt.figure(figsize=(8,5))\n",
    "plot_title = 'latitude vs. cloudiness'\n",
    "x_label = 'latitude'\n",
    "y_label = 'cloudiness (%)'\n",
    "face = 'pink'\n",
    "edge= 'black'\n",
    "\n",
    "fig3 = show_plot(1,6)\n",
    "plt.tight_layout()"
   ]
  },
  {
   "cell_type": "code",
   "execution_count": 63,
   "metadata": {},
   "outputs": [
    {
     "data": {
      "text/plain": [
       "<Figure size 432x288 with 0 Axes>"
      ]
     },
     "metadata": {},
     "output_type": "display_data"
    }
   ],
   "source": [
    "# Save the plot image to png\n",
    "lat_vs_clouds_img = os.path.join('..', 'output_data', 'latitudeVscloudiness.png')\n",
    "plt.savefig(lat_vs_clouds_img)\n",
    "\n",
    "#check to make sure our image uploaded\n",
    "plt.show()"
   ]
  },
  {
   "cell_type": "markdown",
   "metadata": {},
   "source": [
    "# The plot's brief explanation of what the code is analyzing\n",
    "The firgure above is plotting the cloudiness. Whats interesting to see is that the most clouds accumulate where the temperature is highest and lowest. Also being close to the equator during those times seem to have a great impact on the cloudiness as well."
   ]
  },
  {
   "cell_type": "markdown",
   "metadata": {},
   "source": [
    "## Latitude vs. Wind Speed Plot"
   ]
  },
  {
   "cell_type": "code",
   "execution_count": 76,
   "metadata": {},
   "outputs": [
    {
     "data": {
      "image/png": "[encoded data removed]",
      "text/plain": [
       "<Figure size 576x360 with 1 Axes>"
      ]
     },
     "metadata": {
      "needs_background": "light"
     },
     "output_type": "display_data"
    },
    {
     "data": {
      "text/plain": [
       "<Figure size 432x288 with 0 Axes>"
      ]
     },
     "metadata": {},
     "output_type": "display_data"
    }
   ],
   "source": [
    "# Plot latitude vs Wind \n",
    "figure4 = plt.figure(figsize=(8,5))\n",
    "plot_title = 'latitude vs. wind speed (8/16/21)'\n",
    "x_label = 'latitude'\n",
    "y_label = 'wind speed (mph)'\n",
    "face = 'green'\n",
    "edge= 'black'\n",
    "\n",
    "fig4 = show_plot(1,6)\n",
    "plt.tight_layout()"
   ]
  },
  {
   "cell_type": "code",
   "execution_count": 64,
   "metadata": {},
   "outputs": [
    {
     "data": {
      "text/plain": [
       "<Figure size 432x288 with 0 Axes>"
      ]
     },
     "metadata": {},
     "output_type": "display_data"
    }
   ],
   "source": [
    "# Save the plot image to png\n",
    "lat_vs_wind_img = os.path.join('..', 'output_data', 'latitudeVswind.png')\n",
    "plt.savefig(lat_vs_wind_img)\n",
    "\n",
    "#check to make sure our image uploaded\n",
    "plt.show()"
   ]
  },
  {
   "cell_type": "markdown",
   "metadata": {},
   "source": [
    "# The plot's brief explanation of what the code is analyzing\n",
    "The firgure above is plotting the wind speed. You can see that the wind speed is more prominent in lower temperatures farther from the equator. There are more clusters toward the 40-60 latitude axis."
   ]
  },
  {
   "cell_type": "code",
   "execution_count": 26,
   "metadata": {},
   "outputs": [],
   "source": [
    "from scipy import stats"
   ]
  },
  {
   "cell_type": "markdown",
   "metadata": {},
   "source": [
    "## Linear Regression"
   ]
  },
  {
   "cell_type": "code",
   "execution_count": 21,
   "metadata": {},
   "outputs": [
    {
     "data": {
      "text/html": [
       "<div>\n",
       "<style scoped>\n",
       "    .dataframe tbody tr th:only-of-type {\n",
       "        vertical-align: middle;\n",
       "    }\n",
       "\n",
       "    .dataframe tbody tr th {\n",
       "        vertical-align: top;\n",
       "    }\n",
       "\n",
       "    .dataframe thead th {\n",
       "        text-align: right;\n",
       "    }\n",
       "</style>\n",
       "<table border=\"1\" class=\"dataframe\">\n",
       "  <thead>\n",
       "    <tr style=\"text-align: right;\">\n",
       "      <th></th>\n",
       "      <th>city</th>\n",
       "      <th>lat</th>\n",
       "      <th>temp_max</th>\n",
       "      <th>lon</th>\n",
       "      <th>humidity</th>\n",
       "      <th>clouds</th>\n",
       "      <th>wind</th>\n",
       "      <th>country</th>\n",
       "      <th>dt</th>\n",
       "    </tr>\n",
       "  </thead>\n",
       "  <tbody>\n",
       "    <tr>\n",
       "      <th>0</th>\n",
       "      <td>provideniya</td>\n",
       "      <td>64.3833</td>\n",
       "      <td>5.36</td>\n",
       "      <td>-173.3000</td>\n",
       "      <td>94</td>\n",
       "      <td>100</td>\n",
       "      <td>4.55</td>\n",
       "      <td>RU</td>\n",
       "      <td>1629380244</td>\n",
       "    </tr>\n",
       "    <tr>\n",
       "      <th>1</th>\n",
       "      <td>abu zabad</td>\n",
       "      <td>12.3500</td>\n",
       "      <td>32.48</td>\n",
       "      <td>29.2500</td>\n",
       "      <td>46</td>\n",
       "      <td>76</td>\n",
       "      <td>5.78</td>\n",
       "      <td>SD</td>\n",
       "      <td>1629380490</td>\n",
       "    </tr>\n",
       "    <tr>\n",
       "      <th>2</th>\n",
       "      <td>faya</td>\n",
       "      <td>18.3851</td>\n",
       "      <td>24.29</td>\n",
       "      <td>42.4509</td>\n",
       "      <td>41</td>\n",
       "      <td>79</td>\n",
       "      <td>4.68</td>\n",
       "      <td>SA</td>\n",
       "      <td>1629380610</td>\n",
       "    </tr>\n",
       "    <tr>\n",
       "      <th>3</th>\n",
       "      <td>jamestown</td>\n",
       "      <td>42.0970</td>\n",
       "      <td>22.94</td>\n",
       "      <td>-79.2353</td>\n",
       "      <td>88</td>\n",
       "      <td>90</td>\n",
       "      <td>3.11</td>\n",
       "      <td>US</td>\n",
       "      <td>1629380270</td>\n",
       "    </tr>\n",
       "    <tr>\n",
       "      <th>8</th>\n",
       "      <td>nikolskoye</td>\n",
       "      <td>59.7035</td>\n",
       "      <td>17.94</td>\n",
       "      <td>30.7861</td>\n",
       "      <td>67</td>\n",
       "      <td>93</td>\n",
       "      <td>5.78</td>\n",
       "      <td>RU</td>\n",
       "      <td>1629380274</td>\n",
       "    </tr>\n",
       "    <tr>\n",
       "      <th>...</th>\n",
       "      <td>...</td>\n",
       "      <td>...</td>\n",
       "      <td>...</td>\n",
       "      <td>...</td>\n",
       "      <td>...</td>\n",
       "      <td>...</td>\n",
       "      <td>...</td>\n",
       "      <td>...</td>\n",
       "      <td>...</td>\n",
       "    </tr>\n",
       "    <tr>\n",
       "      <th>569</th>\n",
       "      <td>fukue</td>\n",
       "      <td>32.6881</td>\n",
       "      <td>25.71</td>\n",
       "      <td>128.8419</td>\n",
       "      <td>79</td>\n",
       "      <td>3</td>\n",
       "      <td>2.87</td>\n",
       "      <td>JP</td>\n",
       "      <td>1629380774</td>\n",
       "    </tr>\n",
       "    <tr>\n",
       "      <th>570</th>\n",
       "      <td>malakal</td>\n",
       "      <td>9.5334</td>\n",
       "      <td>28.81</td>\n",
       "      <td>31.6605</td>\n",
       "      <td>70</td>\n",
       "      <td>80</td>\n",
       "      <td>1.80</td>\n",
       "      <td>SS</td>\n",
       "      <td>1629380774</td>\n",
       "    </tr>\n",
       "    <tr>\n",
       "      <th>571</th>\n",
       "      <td>caraballeda</td>\n",
       "      <td>10.6112</td>\n",
       "      <td>30.76</td>\n",
       "      <td>-66.8522</td>\n",
       "      <td>62</td>\n",
       "      <td>37</td>\n",
       "      <td>3.09</td>\n",
       "      <td>VE</td>\n",
       "      <td>1629380775</td>\n",
       "    </tr>\n",
       "    <tr>\n",
       "      <th>573</th>\n",
       "      <td>abatskoye</td>\n",
       "      <td>56.2875</td>\n",
       "      <td>20.90</td>\n",
       "      <td>70.4555</td>\n",
       "      <td>55</td>\n",
       "      <td>95</td>\n",
       "      <td>2.14</td>\n",
       "      <td>RU</td>\n",
       "      <td>1629380775</td>\n",
       "    </tr>\n",
       "    <tr>\n",
       "      <th>575</th>\n",
       "      <td>marsh harbour</td>\n",
       "      <td>26.5412</td>\n",
       "      <td>28.15</td>\n",
       "      <td>-77.0636</td>\n",
       "      <td>68</td>\n",
       "      <td>68</td>\n",
       "      <td>3.25</td>\n",
       "      <td>BS</td>\n",
       "      <td>1629380130</td>\n",
       "    </tr>\n",
       "  </tbody>\n",
       "</table>\n",
       "<p>386 rows × 9 columns</p>\n",
       "</div>"
      ],
      "text/plain": [
       "              city      lat  temp_max       lon  humidity  clouds  wind  \\\n",
       "0      provideniya  64.3833      5.36 -173.3000        94     100  4.55   \n",
       "1        abu zabad  12.3500     32.48   29.2500        46      76  5.78   \n",
       "2             faya  18.3851     24.29   42.4509        41      79  4.68   \n",
       "3        jamestown  42.0970     22.94  -79.2353        88      90  3.11   \n",
       "8       nikolskoye  59.7035     17.94   30.7861        67      93  5.78   \n",
       "..             ...      ...       ...       ...       ...     ...   ...   \n",
       "569          fukue  32.6881     25.71  128.8419        79       3  2.87   \n",
       "570        malakal   9.5334     28.81   31.6605        70      80  1.80   \n",
       "571    caraballeda  10.6112     30.76  -66.8522        62      37  3.09   \n",
       "573      abatskoye  56.2875     20.90   70.4555        55      95  2.14   \n",
       "575  marsh harbour  26.5412     28.15  -77.0636        68      68  3.25   \n",
       "\n",
       "    country          dt  \n",
       "0        RU  1629380244  \n",
       "1        SD  1629380490  \n",
       "2        SA  1629380610  \n",
       "3        US  1629380270  \n",
       "8        RU  1629380274  \n",
       "..      ...         ...  \n",
       "569      JP  1629380774  \n",
       "570      SS  1629380774  \n",
       "571      VE  1629380775  \n",
       "573      RU  1629380775  \n",
       "575      BS  1629380130  \n",
       "\n",
       "[386 rows x 9 columns]"
      ]
     },
     "execution_count": 21,
     "metadata": {},
     "output_type": "execute_result"
    }
   ],
   "source": [
    "#create dataframes to work with both hemispheres\n",
    "northern_hem_df = weather_df.loc[weather_df['lat'] >= 0]\n",
    "northern_hem_df"
   ]
  },
  {
   "cell_type": "markdown",
   "metadata": {},
   "source": [
    "####  Northern Hemisphere - Max Temp vs. Latitude Linear Regression"
   ]
  },
  {
   "cell_type": "code",
   "execution_count": 30,
   "metadata": {},
   "outputs": [
    {
     "name": "stdout",
     "output_type": "stream",
     "text": [
      "0      14.478774\n",
      "1      30.114038\n",
      "2      28.300577\n",
      "3      21.175489\n",
      "8      15.884987\n",
      "         ...    \n",
      "569    24.002729\n",
      "570    30.960386\n",
      "571    30.636523\n",
      "573    16.911447\n",
      "575    25.849785\n",
      "Name: lat, Length: 386, dtype: float64\n"
     ]
    }
   ],
   "source": [
    "lat_x_data= northern_hem_df['lat']\n",
    "max_temp_y_data= northern_hem_df['temp_max']\n",
    "\n",
    "# Perform a linear regression on temperature vs. latitude\n",
    "(slope, intercept, rvalue, pvalue, stderr) = stats.linregress(lat_x_data, max_temp_y_data)\n",
    "\n",
    "# Get regression values\n",
    "regress_values = lat_x_data * slope + intercept\n",
    "print(regress_values)"
   ]
  },
  {
   "cell_type": "code",
   "execution_count": 36,
   "metadata": {},
   "outputs": [
    {
     "name": "stdout",
     "output_type": "stream",
     "text": [
      "y = 0.47x +30.69\n",
      "The r-value is: 0.6151056961914476\n"
     ]
    },
    {
     "data": {
      "image/png": "[encoded data removed]",
      "text/plain": [
       "<Figure size 432x288 with 1 Axes>"
      ]
     },
     "metadata": {
      "needs_background": "light"
     },
     "output_type": "display_data"
    }
   ],
   "source": [
    "\n",
    "# lat_x_data= northern_hem_df['lat']\n",
    "# max_temp_y_data= northern_hem_df['temp_max']\n",
    "\n",
    "# Create line equation string\n",
    "line_eq = \"y = \" + str(round(slope,2)) + \"x +\" + str(round(intercept,2))\n",
    "print(line_eq)\n",
    "\n",
    "#Create the plot\n",
    "plt.scatter(lat_x_data,max_temp_y_data)\n",
    "plt.plot(lat_x_data,regress_values,\"r-\")\n",
    "\n",
    "# Label plot and annotate the line equation\n",
    "plt.xlabel('Latitude')\n",
    "plt.ylabel(' Max Temperature')\n",
    "plt.annotate(line_eq,(20,15),fontsize=15,color=\"red\")\n",
    "\n",
    "# Print r value\n",
    "print(f\"The r-value is: {rvalue**2}\")\n",
    "\n",
    "# Show plot\n",
    "plt.show()"
   ]
  },
  {
   "cell_type": "code",
   "execution_count": 82,
   "metadata": {},
   "outputs": [
    {
     "data": {
      "text/plain": [
       "<Figure size 432x288 with 0 Axes>"
      ]
     },
     "metadata": {},
     "output_type": "display_data"
    }
   ],
   "source": [
    "# Save the plot to png file in same place as cities.csv\n",
    "noth_max_temp_lin_reg_image = os.path.join('..', 'output_data', 'north-latVsmaxtemp_linereg.png')\n",
    "plt.savefig(noth_max_temp_lin_reg_image)\n",
    "\n",
    "plt.show()"
   ]
  },
  {
   "cell_type": "code",
   "execution_count": 29,
   "metadata": {},
   "outputs": [
    {
     "data": {
      "text/html": [
       "<div>\n",
       "<style scoped>\n",
       "    .dataframe tbody tr th:only-of-type {\n",
       "        vertical-align: middle;\n",
       "    }\n",
       "\n",
       "    .dataframe tbody tr th {\n",
       "        vertical-align: top;\n",
       "    }\n",
       "\n",
       "    .dataframe thead th {\n",
       "        text-align: right;\n",
       "    }\n",
       "</style>\n",
       "<table border=\"1\" class=\"dataframe\">\n",
       "  <thead>\n",
       "    <tr style=\"text-align: right;\">\n",
       "      <th></th>\n",
       "      <th>city</th>\n",
       "      <th>lat</th>\n",
       "      <th>temp_max</th>\n",
       "      <th>lon</th>\n",
       "      <th>humidity</th>\n",
       "      <th>clouds</th>\n",
       "      <th>wind</th>\n",
       "      <th>country</th>\n",
       "      <th>dt</th>\n",
       "    </tr>\n",
       "  </thead>\n",
       "  <tbody>\n",
       "    <tr>\n",
       "      <th>4</th>\n",
       "      <td>san jeronimo</td>\n",
       "      <td>-11.9472</td>\n",
       "      <td>10.94</td>\n",
       "      <td>-75.2829</td>\n",
       "      <td>58</td>\n",
       "      <td>10</td>\n",
       "      <td>0.62</td>\n",
       "      <td>PE</td>\n",
       "      <td>1629380611</td>\n",
       "    </tr>\n",
       "    <tr>\n",
       "      <th>5</th>\n",
       "      <td>kruisfontein</td>\n",
       "      <td>-34.0033</td>\n",
       "      <td>13.27</td>\n",
       "      <td>24.7314</td>\n",
       "      <td>57</td>\n",
       "      <td>100</td>\n",
       "      <td>3.86</td>\n",
       "      <td>ZA</td>\n",
       "      <td>1629380238</td>\n",
       "    </tr>\n",
       "    <tr>\n",
       "      <th>6</th>\n",
       "      <td>ahipara</td>\n",
       "      <td>-35.1667</td>\n",
       "      <td>10.85</td>\n",
       "      <td>173.1667</td>\n",
       "      <td>77</td>\n",
       "      <td>33</td>\n",
       "      <td>3.52</td>\n",
       "      <td>NZ</td>\n",
       "      <td>1629380505</td>\n",
       "    </tr>\n",
       "    <tr>\n",
       "      <th>7</th>\n",
       "      <td>castro</td>\n",
       "      <td>-24.7911</td>\n",
       "      <td>25.36</td>\n",
       "      <td>-50.0119</td>\n",
       "      <td>39</td>\n",
       "      <td>0</td>\n",
       "      <td>4.44</td>\n",
       "      <td>BR</td>\n",
       "      <td>1629380281</td>\n",
       "    </tr>\n",
       "    <tr>\n",
       "      <th>9</th>\n",
       "      <td>atuona</td>\n",
       "      <td>-9.8000</td>\n",
       "      <td>24.91</td>\n",
       "      <td>-139.0333</td>\n",
       "      <td>75</td>\n",
       "      <td>16</td>\n",
       "      <td>7.22</td>\n",
       "      <td>PF</td>\n",
       "      <td>1629380264</td>\n",
       "    </tr>\n",
       "    <tr>\n",
       "      <th>...</th>\n",
       "      <td>...</td>\n",
       "      <td>...</td>\n",
       "      <td>...</td>\n",
       "      <td>...</td>\n",
       "      <td>...</td>\n",
       "      <td>...</td>\n",
       "      <td>...</td>\n",
       "      <td>...</td>\n",
       "      <td>...</td>\n",
       "    </tr>\n",
       "    <tr>\n",
       "      <th>563</th>\n",
       "      <td>choma</td>\n",
       "      <td>-16.8065</td>\n",
       "      <td>29.00</td>\n",
       "      <td>26.9531</td>\n",
       "      <td>11</td>\n",
       "      <td>0</td>\n",
       "      <td>2.19</td>\n",
       "      <td>ZM</td>\n",
       "      <td>1629380773</td>\n",
       "    </tr>\n",
       "    <tr>\n",
       "      <th>565</th>\n",
       "      <td>daru</td>\n",
       "      <td>-9.0763</td>\n",
       "      <td>24.97</td>\n",
       "      <td>143.2092</td>\n",
       "      <td>88</td>\n",
       "      <td>77</td>\n",
       "      <td>7.45</td>\n",
       "      <td>PG</td>\n",
       "      <td>1629380483</td>\n",
       "    </tr>\n",
       "    <tr>\n",
       "      <th>567</th>\n",
       "      <td>aquiraz</td>\n",
       "      <td>-3.9014</td>\n",
       "      <td>29.05</td>\n",
       "      <td>-38.3911</td>\n",
       "      <td>48</td>\n",
       "      <td>27</td>\n",
       "      <td>6.61</td>\n",
       "      <td>BR</td>\n",
       "      <td>1629380520</td>\n",
       "    </tr>\n",
       "    <tr>\n",
       "      <th>572</th>\n",
       "      <td>yulara</td>\n",
       "      <td>-25.2406</td>\n",
       "      <td>12.91</td>\n",
       "      <td>130.9889</td>\n",
       "      <td>26</td>\n",
       "      <td>0</td>\n",
       "      <td>0.00</td>\n",
       "      <td>AU</td>\n",
       "      <td>1629380310</td>\n",
       "    </tr>\n",
       "    <tr>\n",
       "      <th>574</th>\n",
       "      <td>santa maria da vitoria</td>\n",
       "      <td>-13.3947</td>\n",
       "      <td>27.78</td>\n",
       "      <td>-44.1886</td>\n",
       "      <td>38</td>\n",
       "      <td>72</td>\n",
       "      <td>4.53</td>\n",
       "      <td>BR</td>\n",
       "      <td>1629380776</td>\n",
       "    </tr>\n",
       "  </tbody>\n",
       "</table>\n",
       "<p>190 rows × 9 columns</p>\n",
       "</div>"
      ],
      "text/plain": [
       "                       city      lat  temp_max       lon  humidity  clouds  \\\n",
       "4              san jeronimo -11.9472     10.94  -75.2829        58      10   \n",
       "5              kruisfontein -34.0033     13.27   24.7314        57     100   \n",
       "6                   ahipara -35.1667     10.85  173.1667        77      33   \n",
       "7                    castro -24.7911     25.36  -50.0119        39       0   \n",
       "9                    atuona  -9.8000     24.91 -139.0333        75      16   \n",
       "..                      ...      ...       ...       ...       ...     ...   \n",
       "563                   choma -16.8065     29.00   26.9531        11       0   \n",
       "565                    daru  -9.0763     24.97  143.2092        88      77   \n",
       "567                 aquiraz  -3.9014     29.05  -38.3911        48      27   \n",
       "572                  yulara -25.2406     12.91  130.9889        26       0   \n",
       "574  santa maria da vitoria -13.3947     27.78  -44.1886        38      72   \n",
       "\n",
       "     wind country          dt  \n",
       "4    0.62      PE  1629380611  \n",
       "5    3.86      ZA  1629380238  \n",
       "6    3.52      NZ  1629380505  \n",
       "7    4.44      BR  1629380281  \n",
       "9    7.22      PF  1629380264  \n",
       "..    ...     ...         ...  \n",
       "563  2.19      ZM  1629380773  \n",
       "565  7.45      PG  1629380483  \n",
       "567  6.61      BR  1629380520  \n",
       "572  0.00      AU  1629380310  \n",
       "574  4.53      BR  1629380776  \n",
       "\n",
       "[190 rows x 9 columns]"
      ]
     },
     "execution_count": 29,
     "metadata": {},
     "output_type": "execute_result"
    }
   ],
   "source": [
    "#Create our southern data dataframe\n",
    "southern_weather_df = weather_df.loc[weather_df['lat'] < 0]\n",
    "southern_weather_df"
   ]
  },
  {
   "cell_type": "code",
   "execution_count": 52,
   "metadata": {},
   "outputs": [],
   "source": [
    "x_data= southern_weather_df['lat']\n",
    "y_data= southern_weather_df['temp_max']"
   ]
  },
  {
   "cell_type": "markdown",
   "metadata": {},
   "source": [
    "####  Southern Hemisphere - Max Temp vs. Latitude Linear Regression"
   ]
  },
  {
   "cell_type": "code",
   "execution_count": 53,
   "metadata": {},
   "outputs": [
    {
     "name": "stdout",
     "output_type": "stream",
     "text": [
      "4      25.091968\n",
      "5      14.752873\n",
      "6      14.207514\n",
      "7      19.071216\n",
      "9      26.098496\n",
      "         ...    \n",
      "563    22.814105\n",
      "565    26.437741\n",
      "567    28.863545\n",
      "572    18.860507\n",
      "574    24.413432\n",
      "Name: lat, Length: 190, dtype: float64\n"
     ]
    }
   ],
   "source": [
    "# Perform a linear regression on temperature vs. latitude\n",
    "(slope, intercept, rvalue, pvalue, stderr) = stats.linregress(x_data, y_data)\n",
    "\n",
    "# Get regression values\n",
    "regress_values = x_data * slope + intercept\n",
    "print(regress_values)"
   ]
  },
  {
   "cell_type": "code",
   "execution_count": 54,
   "metadata": {},
   "outputs": [
    {
     "name": "stdout",
     "output_type": "stream",
     "text": [
      "y = 0.47x +30.69\n",
      "The r-value is: 0.6151056961914476\n"
     ]
    },
    {
     "data": {
      "image/png": "[encoded data removed]",
      "text/plain": [
       "<Figure size 432x288 with 1 Axes>"
      ]
     },
     "metadata": {
      "needs_background": "light"
     },
     "output_type": "display_data"
    }
   ],
   "source": [
    "# Create line equation string\n",
    "line_eq = \"y = \" + str(round(slope,2)) + \"x +\" + str(round(intercept,2))\n",
    "print(line_eq)\n",
    "\n",
    "#Create the plot\n",
    "plt.scatter(x_data, y_data)\n",
    "plt.plot(x_data,regress_values,\"r-\")\n",
    "\n",
    "# Label plot and annotate the line equation\n",
    "plt.xlabel('Latitude')\n",
    "plt.ylabel(' Max Temperature')\n",
    "plt.annotate(line_eq,(20,15),fontsize=15,color=\"red\")\n",
    "\n",
    "# Print r value\n",
    "print(f\"The r-value is: {rvalue**2}\")\n",
    "\n",
    "# Show plot\n",
    "plt.show()"
   ]
  },
  {
   "cell_type": "code",
   "execution_count": 80,
   "metadata": {},
   "outputs": [
    {
     "data": {
      "text/plain": [
       "<Figure size 432x288 with 0 Axes>"
      ]
     },
     "metadata": {},
     "output_type": "display_data"
    }
   ],
   "source": [
    "# Save the plot to png file in same place as cities.csv\n",
    "south_max_temp_lin_reg_image = os.path.join('..', 'output_data', 'south-latVsmaxtemp_linereg.png')\n",
    "plt.savefig(south_max_temp_lin_reg_image)\n",
    "\n",
    "plt.show()"
   ]
  },
  {
   "cell_type": "markdown",
   "metadata": {},
   "source": [
    "####  Northern Hemisphere - Humidity (%) vs. Latitude Linear Regression"
   ]
  },
  {
   "cell_type": "code",
   "execution_count": 46,
   "metadata": {},
   "outputs": [
    {
     "name": "stdout",
     "output_type": "stream",
     "text": [
      "0      43.194216\n",
      "1      37.808209\n",
      "2      37.247166\n",
      "3      42.520965\n",
      "8      40.164587\n",
      "         ...    \n",
      "569    41.511088\n",
      "570    40.501212\n",
      "571    39.603544\n",
      "573    38.818085\n",
      "575    40.276795\n",
      "Name: humidity, Length: 386, dtype: float64\n"
     ]
    }
   ],
   "source": [
    "x_data= northern_hem_df['humidity']\n",
    "y_data= northern_hem_df['lat']\n",
    "\n",
    "# Perform a linear regression on temperature vs. latitude\n",
    "(slope, intercept, rvalue, pvalue, stderr) = stats.linregress(x_data, y_data)\n",
    "\n",
    "# Get regression values\n",
    "regress_values = x_data * slope + intercept\n",
    "print(regress_values)"
   ]
  },
  {
   "cell_type": "code",
   "execution_count": 55,
   "metadata": {},
   "outputs": [
    {
     "name": "stdout",
     "output_type": "stream",
     "text": [
      "y = 0.47x +30.69\n",
      "The r-value is: 0.6151056961914476\n"
     ]
    },
    {
     "data": {
      "image/png": "[encoded data removed]",
      "text/plain": [
       "<Figure size 432x288 with 1 Axes>"
      ]
     },
     "metadata": {
      "needs_background": "light"
     },
     "output_type": "display_data"
    }
   ],
   "source": [
    "# Create line equation string\n",
    "line_eq = \"y = \" + str(round(slope,2)) + \"x +\" + str(round(intercept,2))\n",
    "print(line_eq)\n",
    "\n",
    "#Create the plot\n",
    "plt.scatter(x_data, y_data)\n",
    "plt.plot(x_data,regress_values,\"r-\")\n",
    "\n",
    "# Label plot and annotate the line equation\n",
    "plt.xlabel('Humidity')\n",
    "plt.ylabel('Latitude')\n",
    "plt.annotate(line_eq,(20,15),fontsize=15,color=\"red\")\n",
    "\n",
    "# Print r value\n",
    "print(f\"The r-value is: {rvalue**2}\")\n",
    "\n",
    "# Show plot\n",
    "plt.show()"
   ]
  },
  {
   "cell_type": "code",
   "execution_count": 83,
   "metadata": {},
   "outputs": [
    {
     "data": {
      "text/plain": [
       "<Figure size 432x288 with 0 Axes>"
      ]
     },
     "metadata": {},
     "output_type": "display_data"
    }
   ],
   "source": [
    "# Save the plot to png file in same place as cities.csv\n",
    "noth_humidity_lin_reg_image = os.path.join('..', 'output_data', 'north-latVhumidity_linereg.png')\n",
    "plt.savefig(noth_humidity_lin_reg_image)\n",
    "\n",
    "plt.show()"
   ]
  },
  {
   "cell_type": "markdown",
   "metadata": {},
   "source": [
    "####  Southern Hemisphere - Humidity (%) vs. Latitude Linear Regression"
   ]
  },
  {
   "cell_type": "code",
   "execution_count": 47,
   "metadata": {},
   "outputs": [
    {
     "name": "stdout",
     "output_type": "stream",
     "text": [
      "4     -20.588585\n",
      "5     -20.511432\n",
      "6     -22.054498\n",
      "7     -19.122672\n",
      "9     -21.900191\n",
      "         ...    \n",
      "563   -16.962379\n",
      "565   -22.903185\n",
      "567   -19.817052\n",
      "572   -18.119679\n",
      "574   -19.045519\n",
      "Name: humidity, Length: 190, dtype: float64\n"
     ]
    }
   ],
   "source": [
    "x_data= southern_weather_df['humidity']\n",
    "y_data= southern_weather_df['lat']\n",
    "\n",
    "# Perform a linear regression on temperature vs. latitude\n",
    "(slope, intercept, rvalue, pvalue, stderr) = stats.linregress(x_data, y_data)\n",
    "\n",
    "# Get regression values\n",
    "regress_values = x_data * slope + intercept\n",
    "print(regress_values)"
   ]
  },
  {
   "cell_type": "code",
   "execution_count": 56,
   "metadata": {},
   "outputs": [
    {
     "name": "stdout",
     "output_type": "stream",
     "text": [
      "y = 0.47x +30.69\n",
      "The r-value is: 0.6151056961914476\n"
     ]
    },
    {
     "data": {
      "image/png": "[encoded data removed]",
      "text/plain": [
       "<Figure size 432x288 with 1 Axes>"
      ]
     },
     "metadata": {
      "needs_background": "light"
     },
     "output_type": "display_data"
    }
   ],
   "source": [
    "# Create line equation string\n",
    "line_eq = \"y = \" + str(round(slope,2)) + \"x +\" + str(round(intercept,2))\n",
    "print(line_eq)\n",
    "\n",
    "#Create the plot\n",
    "plt.scatter(x_data, y_data)\n",
    "plt.plot(x_data,regress_values,\"r-\")\n",
    "\n",
    "# Label plot and annotate the line equation\n",
    "plt.xlabel('Southern Humidity')\n",
    "plt.ylabel('Southern Latitude')\n",
    "plt.annotate(line_eq,(20,15),fontsize=15,color=\"red\")\n",
    "\n",
    "# Print r value\n",
    "print(f\"The r-value is: {rvalue**2}\")\n",
    "\n",
    "# Show plot\n",
    "plt.show()"
   ]
  },
  {
   "cell_type": "code",
   "execution_count": 84,
   "metadata": {},
   "outputs": [
    {
     "data": {
      "text/plain": [
       "<Figure size 432x288 with 0 Axes>"
      ]
     },
     "metadata": {},
     "output_type": "display_data"
    }
   ],
   "source": [
    "# Save the plot to png file in same place as cities.csv\n",
    "south_humidity_lin_reg_image = os.path.join('..', 'output_data', 'south-latVhumidity_linereg.png')\n",
    "plt.savefig(south_humidity_lin_reg_image)\n",
    "\n",
    "plt.show()"
   ]
  },
  {
   "cell_type": "markdown",
   "metadata": {},
   "source": [
    "####  Northern Hemisphere - Cloudiness (%) vs. Latitude Linear Regression"
   ]
  },
  {
   "cell_type": "code",
   "execution_count": 48,
   "metadata": {},
   "outputs": [
    {
     "name": "stdout",
     "output_type": "stream",
     "text": [
      "0      42.711255\n",
      "1      41.367296\n",
      "2      41.535291\n",
      "3      42.151272\n",
      "8      42.319267\n",
      "         ...    \n",
      "569    37.279420\n",
      "570    41.591289\n",
      "571    39.183362\n",
      "573    42.431264\n",
      "575    40.919310\n",
      "Name: clouds, Length: 386, dtype: float64\n"
     ]
    }
   ],
   "source": [
    "x_data= northern_hem_df['clouds']\n",
    "y_data= northern_hem_df['lat']\n",
    "\n",
    "# Perform a linear regression on temperature vs. latitude\n",
    "(slope, intercept, rvalue, pvalue, stderr) = stats.linregress(x_data, y_data)\n",
    "\n",
    "# Get regression values\n",
    "regress_values = x_data * slope + intercept\n",
    "print(regress_values)"
   ]
  },
  {
   "cell_type": "code",
   "execution_count": 57,
   "metadata": {},
   "outputs": [
    {
     "name": "stdout",
     "output_type": "stream",
     "text": [
      "y = 0.47x +30.69\n",
      "The r-value is: 0.6151056961914476\n"
     ]
    },
    {
     "data": {
      "image/png": "[encoded data removed]",
      "text/plain": [
       "<Figure size 432x288 with 1 Axes>"
      ]
     },
     "metadata": {
      "needs_background": "light"
     },
     "output_type": "display_data"
    }
   ],
   "source": [
    "# Create line equation string\n",
    "line_eq = \"y = \" + str(round(slope,2)) + \"x +\" + str(round(intercept,2))\n",
    "print(line_eq)\n",
    "\n",
    "#Create the plot\n",
    "plt.scatter(x_data, y_data)\n",
    "plt.plot(x_data,regress_values,\"r-\")\n",
    "\n",
    "# Label plot and annotate the line equation\n",
    "plt.xlabel('Cloudiness')\n",
    "plt.ylabel('Latitude')\n",
    "plt.annotate(line_eq,(20,15),fontsize=15,color=\"red\")\n",
    "\n",
    "# Print r value\n",
    "print(f\"The r-value is: {rvalue**2}\")\n",
    "\n",
    "# Show plot\n",
    "plt.show()"
   ]
  },
  {
   "cell_type": "code",
   "execution_count": 85,
   "metadata": {},
   "outputs": [
    {
     "data": {
      "text/plain": [
       "<Figure size 432x288 with 0 Axes>"
      ]
     },
     "metadata": {},
     "output_type": "display_data"
    }
   ],
   "source": [
    "# Save the plot to png file in same place as cities.csv\n",
    "north_cloudiness_lin_reg_image = os.path.join('..', 'output_data', 'north-latVcloudiness_linereg.png')\n",
    "plt.savefig(north_cloudiness_lin_reg_image)\n",
    "\n",
    "plt.show()"
   ]
  },
  {
   "cell_type": "markdown",
   "metadata": {},
   "source": [
    "####  Southern Hemisphere - Cloudiness (%) vs. Latitude Linear Regression"
   ]
  },
  {
   "cell_type": "code",
   "execution_count": 49,
   "metadata": {},
   "outputs": [
    {
     "name": "stdout",
     "output_type": "stream",
     "text": [
      "4     -20.588585\n",
      "5     -20.511432\n",
      "6     -22.054498\n",
      "7     -19.122672\n",
      "9     -21.900191\n",
      "         ...    \n",
      "563   -16.962379\n",
      "565   -22.903185\n",
      "567   -19.817052\n",
      "572   -18.119679\n",
      "574   -19.045519\n",
      "Name: humidity, Length: 190, dtype: float64\n"
     ]
    }
   ],
   "source": [
    "x_data= southern_weather_df['humidity']\n",
    "y_data= southern_weather_df['lat']\n",
    "\n",
    "# Perform a linear regression on temperature vs. latitude\n",
    "(slope, intercept, rvalue, pvalue, stderr) = stats.linregress(x_data, y_data)\n",
    "\n",
    "# Get regression values\n",
    "regress_values = x_data * slope + intercept\n",
    "print(regress_values)"
   ]
  },
  {
   "cell_type": "code",
   "execution_count": 58,
   "metadata": {},
   "outputs": [
    {
     "name": "stdout",
     "output_type": "stream",
     "text": [
      "y = 0.47x +30.69\n",
      "The r-value is: 0.6151056961914476\n"
     ]
    },
    {
     "data": {
      "image/png": "[encoded data removed]",
      "text/plain": [
       "<Figure size 432x288 with 1 Axes>"
      ]
     },
     "metadata": {
      "needs_background": "light"
     },
     "output_type": "display_data"
    }
   ],
   "source": [
    "# Create line equation string\n",
    "line_eq = \"y = \" + str(round(slope,2)) + \"x +\" + str(round(intercept,2))\n",
    "print(line_eq)\n",
    "\n",
    "#Create the plot\n",
    "plt.scatter(x_data, y_data)\n",
    "plt.plot(x_data,regress_values,\"r-\")\n",
    "\n",
    "# Label plot and annotate the line equation\n",
    "plt.xlabel('Southern Cloudiness')\n",
    "plt.ylabel('Southern Latitude')\n",
    "plt.annotate(line_eq,(20,15),fontsize=15,color=\"red\")\n",
    "\n",
    "# Print r value\n",
    "print(f\"The r-value is: {rvalue**2}\")\n",
    "\n",
    "# Show plot\n",
    "plt.show()"
   ]
  },
  {
   "cell_type": "code",
   "execution_count": 86,
   "metadata": {},
   "outputs": [
    {
     "data": {
      "text/plain": [
       "<Figure size 432x288 with 0 Axes>"
      ]
     },
     "metadata": {},
     "output_type": "display_data"
    }
   ],
   "source": [
    "# Save the plot to png file in same place as cities.csv\n",
    "south_cloudiness_lin_reg_image = os.path.join('..', 'output_data', 'south-latVcloudiness_linereg.png')\n",
    "plt.savefig(south_cloudiness_lin_reg_image)\n",
    "\n",
    "plt.show()"
   ]
  },
  {
   "cell_type": "markdown",
   "metadata": {},
   "source": [
    "####  Northern Hemisphere - Wind Speed (mph) vs. Latitude Linear Regression"
   ]
  },
  {
   "cell_type": "code",
   "execution_count": 50,
   "metadata": {},
   "outputs": [
    {
     "name": "stdout",
     "output_type": "stream",
     "text": [
      "0      40.744984\n",
      "1      40.832816\n",
      "2      40.754267\n",
      "3      40.642157\n",
      "8      40.832816\n",
      "         ...    \n",
      "569    40.625019\n",
      "570    40.548613\n",
      "571    40.640729\n",
      "573    40.572892\n",
      "575    40.652154\n",
      "Name: wind, Length: 386, dtype: float64\n"
     ]
    }
   ],
   "source": [
    "x_data= northern_hem_df['wind']\n",
    "y_data= northern_hem_df['lat']\n",
    "\n",
    "# Perform a linear regression on temperature vs. latitude\n",
    "(slope, intercept, rvalue, pvalue, stderr) = stats.linregress(x_data, y_data)\n",
    "\n",
    "# Get regression values\n",
    "regress_values = x_data * slope + intercept\n",
    "print(regress_values)"
   ]
  },
  {
   "cell_type": "code",
   "execution_count": 59,
   "metadata": {},
   "outputs": [
    {
     "name": "stdout",
     "output_type": "stream",
     "text": [
      "y = 0.47x +30.69\n",
      "The r-value is: 0.6151056961914476\n"
     ]
    },
    {
     "data": {
      "image/png": "[encoded data removed]",
      "text/plain": [
       "<Figure size 432x288 with 1 Axes>"
      ]
     },
     "metadata": {
      "needs_background": "light"
     },
     "output_type": "display_data"
    }
   ],
   "source": [
    "# Create line equation string\n",
    "line_eq = \"y = \" + str(round(slope,2)) + \"x +\" + str(round(intercept,2))\n",
    "print(line_eq)\n",
    "\n",
    "#Create the plot\n",
    "plt.scatter(x_data, y_data)\n",
    "plt.plot(x_data,regress_values,\"r-\")\n",
    "\n",
    "# Label plot and annotate the line equation\n",
    "plt.xlabel('Wind Speed')\n",
    "plt.ylabel('Latitude')\n",
    "plt.annotate(line_eq,(20,15),fontsize=15,color=\"red\")\n",
    "\n",
    "# Print r value\n",
    "print(f\"The r-value is: {rvalue**2}\")\n",
    "\n",
    "# Show plot\n",
    "plt.show()"
   ]
  },
  {
   "cell_type": "code",
   "execution_count": 87,
   "metadata": {},
   "outputs": [
    {
     "data": {
      "text/plain": [
       "<Figure size 432x288 with 0 Axes>"
      ]
     },
     "metadata": {},
     "output_type": "display_data"
    }
   ],
   "source": [
    "# Save the plot to png file in same place as cities.csv\n",
    "noth_windspeed_lin_reg_image = os.path.join('..', 'output_data', 'north-latVwindspeed_linereg.png')\n",
    "plt.savefig(noth_windspeed_lin_reg_image)\n",
    "\n",
    "plt.show()"
   ]
  },
  {
   "cell_type": "markdown",
   "metadata": {},
   "source": [
    "####  Southern Hemisphere - Wind Speed (mph) vs. Latitude Linear Regression"
   ]
  },
  {
   "cell_type": "code",
   "execution_count": 51,
   "metadata": {},
   "outputs": [
    {
     "name": "stdout",
     "output_type": "stream",
     "text": [
      "4     -16.554813\n",
      "5     -20.813030\n",
      "6     -20.366180\n",
      "7     -21.575304\n",
      "9     -25.228959\n",
      "         ...    \n",
      "563   -18.618209\n",
      "565   -25.531240\n",
      "567   -24.427258\n",
      "572   -15.739969\n",
      "574   -21.693588\n",
      "Name: wind, Length: 190, dtype: float64\n"
     ]
    }
   ],
   "source": [
    "x_data= southern_weather_df['wind']\n",
    "y_data= southern_weather_df['lat']\n",
    "\n",
    "# Perform a linear regression on temperature vs. latitude\n",
    "(slope, intercept, rvalue, pvalue, stderr) = stats.linregress(x_data, y_data)\n",
    "\n",
    "# Get regression values\n",
    "regress_values = x_data * slope + intercept\n",
    "print(regress_values)"
   ]
  },
  {
   "cell_type": "code",
   "execution_count": 60,
   "metadata": {},
   "outputs": [
    {
     "name": "stdout",
     "output_type": "stream",
     "text": [
      "y = 0.47x +30.69\n",
      "The r-value is: 0.6151056961914476\n"
     ]
    },
    {
     "data": {
      "image/png": "[encoded data removed]",
      "text/plain": [
       "<Figure size 432x288 with 1 Axes>"
      ]
     },
     "metadata": {
      "needs_background": "light"
     },
     "output_type": "display_data"
    }
   ],
   "source": [
    "# Create line equation string\n",
    "line_eq = \"y = \" + str(round(slope,2)) + \"x +\" + str(round(intercept,2))\n",
    "print(line_eq)\n",
    "\n",
    "#Create the plot\n",
    "plt.scatter(x_data, y_data)\n",
    "plt.plot(x_data,regress_values,\"r-\")\n",
    "\n",
    "# Label plot and annotate the line equation\n",
    "plt.xlabel('Southern Wind Speed')\n",
    "plt.ylabel('Southern Latitude')\n",
    "plt.annotate(line_eq,(20,15),fontsize=15,color=\"red\")\n",
    "\n",
    "# Print r value\n",
    "print(f\"The r-value is: {rvalue**2}\")\n",
    "\n",
    "# Show plot\n",
    "plt.show()"
   ]
  },
  {
   "cell_type": "code",
   "execution_count": 88,
   "metadata": {},
   "outputs": [
    {
     "data": {
      "text/plain": [
       "<Figure size 432x288 with 0 Axes>"
      ]
     },
     "metadata": {},
     "output_type": "display_data"
    }
   ],
   "source": [
    "# Save the plot to png file in same place as cities.csv\n",
    "south_windspeed_lin_reg_image = os.path.join('..', 'output_data', 'south-latVwindspeed_linereg.img')\n",
    "plt.savefig(south_windspeed_lin_reg_image)\n",
    "\n",
    "plt.show()"
   ]
  }
 ],
 "metadata": {
  "anaconda-cloud": {},
  "kernel_info": {
   "name": "python3"
  },
  "kernelspec": {
   "display_name": "Python 3",
   "language": "python",
   "name": "python3"
  },
  "language_info": {
   "codemirror_mode": {
    "name": "ipython",
    "version": 3
   },
   "file_extension": ".py",
   "mimetype": "text/x-python",
   "name": "python",
   "nbconvert_exporter": "python",
   "pygments_lexer": "ipython3",
   "version": "3.8.5"
  },
  "latex_envs": {
   "LaTeX_envs_menu_present": true,
   "autoclose": false,
   "autocomplete": true,
   "bibliofile": "biblio.bib",
   "cite_by": "apalike",
   "current_citInitial": 1,
   "eqLabelWithNumbers": true,
   "eqNumInitial": 1,
   "hotkeys": {
    "equation": "Ctrl-E",
    "itemize": "Ctrl-I"
   },
   "labels_anchors": false,
   "latex_user_defs": false,
   "report_style_numbering": false,
   "user_envs_cfg": false
  },
  "nteract": {
   "version": "0.12.3"
  }
 },
 "nbformat": 4,
 "nbformat_minor": 2
}
